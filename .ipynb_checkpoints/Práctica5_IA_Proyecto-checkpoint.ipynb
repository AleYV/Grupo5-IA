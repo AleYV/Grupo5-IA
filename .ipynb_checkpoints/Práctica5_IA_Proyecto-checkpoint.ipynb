{
 "cells": [
  {
   "cell_type": "markdown",
   "id": "0d011eba",
   "metadata": {},
   "source": [
    "# Practica 5"
   ]
  },
  {
   "cell_type": "markdown",
   "id": "52f73934",
   "metadata": {},
   "source": [
    "## Estado del Arte"
   ]
  },
  {
   "cell_type": "markdown",
   "id": "c76410c1",
   "metadata": {},
   "source": [
    "### Otros Articulos"
   ]
  },
  {
   "cell_type": "markdown",
   "id": "f535a12d",
   "metadata": {},
   "source": [
    "#### Artículo 1 - Reading comprehension tests for computer-based understanding evaluation"
   ]
  },
  {
   "cell_type": "markdown",
   "id": "3da39b8c",
   "metadata": {},
   "source": [
    "#### Artículo 2 - Uso de Redes Neuronales Convoluiconales aplicado a Sentiment Analysis"
   ]
  },
  {
   "cell_type": "markdown",
   "id": "f6c92c74",
   "metadata": {},
   "source": [
    "#### Artículo 3 - A Survey on Neural Machine Reading Comprehension"
   ]
  },
  {
   "cell_type": "markdown",
   "id": "a8c5fec1",
   "metadata": {},
   "source": [
    "#### Artículo 4 -  An Introduction to Convolutional Neural Networks"
   ]
  },
  {
   "cell_type": "markdown",
   "id": "78321a1d",
   "metadata": {},
   "source": [
    "#### Artículo 5 - Distributed Representations of Words and Phrases and their Compositionality"
   ]
  }
 ],
 "metadata": {
  "kernelspec": {
   "display_name": "Python 3",
   "language": "python",
   "name": "python3"
  },
  "language_info": {
   "codemirror_mode": {
    "name": "ipython",
    "version": 3
   },
   "file_extension": ".py",
   "mimetype": "text/x-python",
   "name": "python",
   "nbconvert_exporter": "python",
   "pygments_lexer": "ipython3",
   "version": "3.8.8"
  }
 },
 "nbformat": 4,
 "nbformat_minor": 5
}
