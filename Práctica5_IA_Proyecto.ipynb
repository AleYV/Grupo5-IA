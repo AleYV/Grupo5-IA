{
 "cells": [
  {
   "cell_type": "markdown",
   "id": "dcca926b",
   "metadata": {},
   "source": [
    "# Practica 5"
   ]
  },
  {
   "cell_type": "code",
   "execution_count": 1,
   "id": "af743bde",
   "metadata": {},
   "outputs": [],
   "source": [
    "import torch"
   ]
  },
  {
   "cell_type": "code",
   "execution_count": 2,
   "id": "32418d19",
   "metadata": {},
   "outputs": [],
   "source": [
    "from torchtext import datasets"
   ]
  },
  {
   "cell_type": "code",
   "execution_count": 3,
   "id": "8f0c75e8",
   "metadata": {},
   "outputs": [
    {
     "data": {
      "text/plain": [
       "['AG_NEWS',\n",
       " 'AmazonReviewFull',\n",
       " 'AmazonReviewPolarity',\n",
       " 'CoNLL2000Chunking',\n",
       " 'DATASETS',\n",
       " 'DBpedia',\n",
       " 'EnWik9',\n",
       " 'IMDB',\n",
       " 'IWSLT2016',\n",
       " 'IWSLT2017',\n",
       " 'MD5',\n",
       " 'Multi30k',\n",
       " 'NUM_LINES',\n",
       " 'PennTreebank',\n",
       " 'SQuAD1',\n",
       " 'SQuAD2',\n",
       " 'SogouNews',\n",
       " 'UDPOS',\n",
       " 'URLS',\n",
       " 'WikiText103',\n",
       " 'WikiText2',\n",
       " 'YahooAnswers',\n",
       " 'YelpReviewFull',\n",
       " 'YelpReviewPolarity',\n",
       " '__all__',\n",
       " '__builtins__',\n",
       " '__cached__',\n",
       " '__doc__',\n",
       " '__file__',\n",
       " '__loader__',\n",
       " '__name__',\n",
       " '__package__',\n",
       " '__path__',\n",
       " '__spec__',\n",
       " 'ag_news',\n",
       " 'amazonreviewfull',\n",
       " 'amazonreviewpolarity',\n",
       " 'conll2000chunking',\n",
       " 'dataset',\n",
       " 'dataset_module',\n",
       " 'dataset_module_path',\n",
       " 'dbpedia',\n",
       " 'enwik9',\n",
       " 'imdb',\n",
       " 'importlib',\n",
       " 'iwslt2016',\n",
       " 'iwslt2017',\n",
       " 'multi30k',\n",
       " 'penntreebank',\n",
       " 'sogounews',\n",
       " 'squad1',\n",
       " 'squad2',\n",
       " 'udpos',\n",
       " 'wikitext103',\n",
       " 'wikitext2',\n",
       " 'yahooanswers',\n",
       " 'yelpreviewfull',\n",
       " 'yelpreviewpolarity']"
      ]
     },
     "execution_count": 3,
     "metadata": {},
     "output_type": "execute_result"
    }
   ],
   "source": [
    "dir(datasets)"
   ]
  },
  {
   "cell_type": "code",
   "execution_count": 4,
   "id": "8a187f75",
   "metadata": {},
   "outputs": [
    {
     "name": "stderr",
     "output_type": "stream",
     "text": [
      "C:\\Users\\hp\\Documents\\GitHub\\Grupo5-IA\\.data\\SQuAD1\\train-v1.1.json: 30.3MB [00:00, 43.0MB/s]                          \n",
      "C:\\Users\\hp\\Documents\\GitHub\\Grupo5-IA\\.data\\SQuAD1\\dev-v1.1.json: 4.85MB [00:00, 47.0MB/s]                            \n"
     ]
    }
   ],
   "source": [
    "train_data, dev_data = datasets.SQuAD1(root='.data', split=('train', 'dev'))"
   ]
  },
  {
   "cell_type": "code",
   "execution_count": 5,
   "id": "37aab8df",
   "metadata": {},
   "outputs": [
    {
     "data": {
      "text/plain": [
       "87599"
      ]
     },
     "execution_count": 5,
     "metadata": {},
     "output_type": "execute_result"
    }
   ],
   "source": [
    "len(train_data)"
   ]
  },
  {
   "cell_type": "code",
   "execution_count": 6,
   "id": "035e097c",
   "metadata": {},
   "outputs": [
    {
     "data": {
      "text/plain": [
       "10570"
      ]
     },
     "execution_count": 6,
     "metadata": {},
     "output_type": "execute_result"
    }
   ],
   "source": [
    "len(dev_data)"
   ]
  },
  {
   "cell_type": "code",
   "execution_count": null,
   "id": "c95ea519",
   "metadata": {},
   "outputs": [],
   "source": []
  }
 ],
 "metadata": {
  "kernelspec": {
   "display_name": "Python 3",
   "language": "python",
   "name": "python3"
  },
  "language_info": {
   "codemirror_mode": {
    "name": "ipython",
    "version": 3
   },
   "file_extension": ".py",
   "mimetype": "text/x-python",
   "name": "python",
   "nbconvert_exporter": "python",
   "pygments_lexer": "ipython3",
   "version": "3.8.8"
  }
 },
 "nbformat": 4,
 "nbformat_minor": 5
}
