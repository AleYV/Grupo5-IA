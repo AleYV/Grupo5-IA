{
 "cells": [
  {
   "cell_type": "markdown",
   "id": "dcca926b",
   "metadata": {},
   "source": [
    "# Practica 5"
   ]
  },
  {
   "cell_type": "markdown",
   "id": "ecc42540",
   "metadata": {},
   "source": [
    "## Estado del Arte"
   ]
  },
  {
   "cell_type": "markdown",
   "id": "64967c0b",
   "metadata": {},
   "source": [
    "### Otros Articulos"
   ]
  },
  {
   "cell_type": "markdown",
   "id": "5e778c02",
   "metadata": {},
   "source": [
    "#### Artículo 1 - Reading comprehension tests for computer-based understanding evaluation"
   ]
  },
  {
   "cell_type": "markdown",
   "id": "e714a6e4",
   "metadata": {},
   "source": [
    "#### Artículo 2 - Uso de Redes Neuronales Convoluiconales aplicado a Sentiment Analysis"
   ]
  },
  {
   "cell_type": "markdown",
   "id": "a7082d89",
   "metadata": {},
   "source": [
    "#### Artículo 3 - A Survey on Neural Machine Reading Comprehension"
   ]
  },
  {
   "cell_type": "markdown",
   "id": "883f9f87",
   "metadata": {},
   "source": [
    "#### Artículo 4 -  An Introduction to Convolutional Neural Networks"
   ]
  },
  {
   "cell_type": "markdown",
   "id": "d5f3ceac",
   "metadata": {},
   "source": [
    "#### Artículo 5 - Distributed Representations of Words and Phrases and their Compositionality"
   ]
  },
  {
   "cell_type": "markdown",
   "id": "b5a61bc2",
   "metadata": {},
   "source": [
    "## M"
   ]
  }
 ],
 "metadata": {
  "kernelspec": {
   "display_name": "Python 3",
   "language": "python",
   "name": "python3"
  },
  "language_info": {
   "codemirror_mode": {
    "name": "ipython",
    "version": 3
   },
   "file_extension": ".py",
   "mimetype": "text/x-python",
   "name": "python",
   "nbconvert_exporter": "python",
   "pygments_lexer": "ipython3",
   "version": "3.8.8"
  }
 },
 "nbformat": 4,
 "nbformat_minor": 5
}
